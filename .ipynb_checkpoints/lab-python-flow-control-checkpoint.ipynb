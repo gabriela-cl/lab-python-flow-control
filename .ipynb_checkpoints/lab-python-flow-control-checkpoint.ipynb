{
 "cells": [
  {
   "cell_type": "markdown",
   "id": "d3bfc191-8885-42ee-b0a0-bbab867c6f9f",
   "metadata": {
    "tags": []
   },
   "source": [
    "# Lab | Flow Control"
   ]
  },
  {
   "cell_type": "markdown",
   "id": "3851fcd1-cf98-4653-9c89-e003b7ec9400",
   "metadata": {},
   "source": [
    "## Exercise: Managing Customer Orders Optimized\n",
    "\n",
    "In the last lab, you were starting an online store that sells various products. To ensure smooth operations, you developed a program that manages customer orders and inventory.\n",
    "\n",
    "You did so without using flow control. Let's go a step further and improve this code.\n",
    "\n",
    "Follow the steps below to complete the exercise:\n",
    "\n",
    "1. Look at your code from the lab data structures, and improve repeated code with loops.\n",
    "\n",
    "2. Instead of asking the user to input the name of three products that a customer wants to order, do the following:\n",
    "    \n",
    "    a. Prompt the user to enter the name of a product that a customer wants to order.\n",
    "    \n",
    "    b. Add the product name to the \"customer_orders\" set.\n",
    "    \n",
    "    c. Ask the user if they want to add another product (yes/no).\n",
    "    \n",
    "    d. Continue the loop until the user does not want to add another product.\n",
    "\n",
    "3. Instead of updating the inventory by subtracting 1 from the quantity of each product, only do it for  the products that were ordered (those in \"customer_orders\")."
   ]
  },
  {
   "cell_type": "code",
   "execution_count": 21,
   "id": "8971ac6a-0e9b-41f9-8e50-a2e08737c7c3",
   "metadata": {},
   "outputs": [
    {
     "name": "stdin",
     "output_type": "stream",
     "text": [
      "Please add the quantity of t-shirt:  5\n",
      "Please add the quantity of mug:  4\n",
      "Please add the quantity of hat:  3\n",
      "Please add the quantity of book:  2\n",
      "Please add the quantity of keychain:  1\n"
     ]
    },
    {
     "name": "stdout",
     "output_type": "stream",
     "text": [
      "{'t-shirt': 5, 'mug': 4, 'hat': 3, 'book': 2, 'keychain': 1}\n"
     ]
    }
   ],
   "source": [
    "products = [\"t-shirt\", \"mug\", \"hat\", \"book\", \"keychain\"]\n",
    "inventory = {} #dictionary\n",
    "\n",
    "for product in products:\n",
    "    while True:\n",
    "        try:\n",
    "            quantity = int(input(f\"Please add the quantity of {product}: \"))\n",
    "            break\n",
    "        except ValueError:\n",
    "            print(\"Please enter a valid integer.\")\n",
    "    inventory[product] = quantity\n",
    "    \n",
    "print (inventory)"
   ]
  },
  {
   "cell_type": "code",
   "execution_count": 22,
   "id": "082e5c06-d86a-4d22-9bd4-86c0a050e2bc",
   "metadata": {},
   "outputs": [
    {
     "name": "stdin",
     "output_type": "stream",
     "text": [
      "Please enter a product that you would like to buy:  book\n",
      "Would you like to add another product in your basket? Please answer with 'yes' or 'no':  YES\n",
      "Please enter a product that you would like to buy:  hat\n",
      "Would you like to add another product in your basket? Please answer with 'yes' or 'no':  y\n"
     ]
    },
    {
     "name": "stdout",
     "output_type": "stream",
     "text": [
      "Please enter a valid answer ('yes' or 'no').\n"
     ]
    },
    {
     "name": "stdin",
     "output_type": "stream",
     "text": [
      "Would you like to add another product in your basket? Please answer with 'yes' or 'no':  Yes\n",
      "Please enter a product that you would like to buy:  mug\n",
      "Would you like to add another product in your basket? Please answer with 'yes' or 'no':  no\n"
     ]
    }
   ],
   "source": [
    "customer_orders = set()\n",
    "\n",
    "input_extra = 'yes'\n",
    "while input_extra == 'yes':\n",
    "    product_added = input(\"Please enter a product that you would like to buy: \")\n",
    "    customer_orders.add(product_added)\n",
    "\n",
    "    while True:\n",
    "        input_extra = input(\"Would you like to add another product in your basket? Please answer with 'yes' or 'no': \").lower()\n",
    "        if input_extra in ['yes', 'no']:\n",
    "            break\n",
    "        else:\n",
    "            print(\"Please enter a valid answer ('yes' or 'no').\")\n"
   ]
  },
  {
   "cell_type": "code",
   "execution_count": 23,
   "id": "0ead07e0-69f6-4716-9aff-24559715e675",
   "metadata": {},
   "outputs": [
    {
     "data": {
      "text/plain": [
       "{'book', 'hat', 'mug'}"
      ]
     },
     "execution_count": 23,
     "metadata": {},
     "output_type": "execute_result"
    }
   ],
   "source": [
    "customer_orders"
   ]
  },
  {
   "cell_type": "code",
   "execution_count": 24,
   "id": "64c0058e-f4de-49cf-90d2-d0512957c77f",
   "metadata": {},
   "outputs": [
    {
     "data": {
      "text/plain": [
       "{'t-shirt': 5, 'mug': 4, 'hat': 3, 'book': 2, 'keychain': 1}"
      ]
     },
     "execution_count": 24,
     "metadata": {},
     "output_type": "execute_result"
    }
   ],
   "source": [
    "inventory #origin inventory just to compare"
   ]
  },
  {
   "cell_type": "code",
   "execution_count": 25,
   "id": "33069858-404b-41af-a889-a15a94e253d7",
   "metadata": {},
   "outputs": [],
   "source": [
    "for product_ordered in customer_orders:\n",
    "    if product_ordered in inventory:\n",
    "        if inventory[product_ordered] > 0:\n",
    "            inventory[product_ordered] -= 1\n",
    "        else:\n",
    "            print(f\"Insufficient stock for {product_ordered}.\")"
   ]
  },
  {
   "cell_type": "code",
   "execution_count": 26,
   "id": "c5778ce1-0b7d-43a7-892c-eb76936aef27",
   "metadata": {},
   "outputs": [
    {
     "data": {
      "text/plain": [
       "{'t-shirt': 5, 'mug': 3, 'hat': 2, 'book': 1, 'keychain': 1}"
      ]
     },
     "execution_count": 26,
     "metadata": {},
     "output_type": "execute_result"
    }
   ],
   "source": [
    "inventory"
   ]
  },
  {
   "cell_type": "code",
   "execution_count": null,
   "id": "e8a72425-0d22-48c5-86ef-538810e9f2f7",
   "metadata": {},
   "outputs": [],
   "source": []
  }
 ],
 "metadata": {
  "kernelspec": {
   "display_name": "Python 3 (ipykernel)",
   "language": "python",
   "name": "python3"
  },
  "language_info": {
   "codemirror_mode": {
    "name": "ipython",
    "version": 3
   },
   "file_extension": ".py",
   "mimetype": "text/x-python",
   "name": "python",
   "nbconvert_exporter": "python",
   "pygments_lexer": "ipython3",
   "version": "3.11.7"
  }
 },
 "nbformat": 4,
 "nbformat_minor": 5
}
